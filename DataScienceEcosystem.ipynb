{
 "cells": [
  {
   "cell_type": "markdown",
   "id": "442960af-39e0-4dec-9413-3a8b498184ca",
   "metadata": {},
   "source": [
    "# Data Science Tools and Ecosystem"
   ]
  },
  {
   "cell_type": "markdown",
   "id": "9e3eecbe-5c40-46f2-9ee9-2bb2118312dc",
   "metadata": {},
   "source": [
    "In this notebook, Data Science Tools and Ecosystem are summarized."
   ]
  },
  {
   "cell_type": "markdown",
   "id": "2016ae29-cf83-46d6-8104-081d407784a9",
   "metadata": {},
   "source": [
    "**Objectives:**\n",
    "  - Learned about popular Data Science Languages\n",
    "  - Learned about DataScience Tools\n",
    "  - Practiced Jupyter Notebook on Lab Environment"
   ]
  },
  {
   "cell_type": "markdown",
   "id": "83844bd9-077e-43ea-9eb0-b918ab908419",
   "metadata": {},
   "source": [
    "Some of the popular languages that Data Scientists use are:\n",
    "1. Python\n",
    "2. R Language\n",
    "3. SQL (Structured Query Language)"
   ]
  },
  {
   "cell_type": "markdown",
   "id": "9d738e4a-0b82-4ebc-9eb9-3b093e545c0c",
   "metadata": {},
   "source": [
    "Some of the commonly used libraries used by Data Scientists include:\n",
    "1. Pandas\n",
    "2. Keras\n",
    "3. Tensorflow"
   ]
  },
  {
   "cell_type": "markdown",
   "id": "bf58ffb7-15ad-408e-bfda-4cc0d57d41ef",
   "metadata": {},
   "source": [
    "# Single Column Table\n",
    "|Data Science Tools|\n",
    "|------------------|\n",
    "|Github|\n",
    "|R-Studio|\n",
    "|Jupyter Notebook|"
   ]
  },
  {
   "cell_type": "markdown",
   "id": "c76af5af-d214-45ef-b8a8-87d55c5052e9",
   "metadata": {},
   "source": [
    "### Below are a few examples of evaluating arithmetic expressions in Python\n"
   ]
  },
  {
   "cell_type": "code",
   "execution_count": 3,
   "id": "b913c471-ad41-417b-9fd3-fefe870565b4",
   "metadata": {},
   "outputs": [
    {
     "data": {
      "text/plain": [
       "17"
      ]
     },
     "execution_count": 3,
     "metadata": {},
     "output_type": "execute_result"
    }
   ],
   "source": [
    "(3*4)+5"
   ]
  },
  {
   "cell_type": "code",
   "execution_count": 4,
   "id": "77cd0086-b806-4717-872a-87832f8acc5a",
   "metadata": {},
   "outputs": [
    {
     "data": {
      "text/plain": [
       "3.3333333333333335"
      ]
     },
     "execution_count": 4,
     "metadata": {},
     "output_type": "execute_result"
    }
   ],
   "source": [
    "#This will convert 200 minutes to hours by diving by 60\n",
    "200/60"
   ]
  },
  {
   "cell_type": "markdown",
   "id": "c952239a-1835-4935-9489-f28ceb53b413",
   "metadata": {},
   "source": [
    "## Author\n",
    "Ibtisam Ur Rehman"
   ]
  },
  {
   "cell_type": "markdown",
   "id": "2a739bda-8f51-4b79-8c3c-c9c5a91d7a57",
   "metadata": {},
   "source": []
  },
  {
   "cell_type": "code",
   "execution_count": null,
   "id": "00bf5000-a17b-49f7-b8e9-cd0ce83d2997",
   "metadata": {},
   "outputs": [],
   "source": []
  }
 ],
 "metadata": {
  "kernelspec": {
   "display_name": "Python",
   "language": "python",
   "name": "conda-env-python-py"
  },
  "language_info": {
   "codemirror_mode": {
    "name": "ipython",
    "version": 3
   },
   "file_extension": ".py",
   "mimetype": "text/x-python",
   "name": "python",
   "nbconvert_exporter": "python",
   "pygments_lexer": "ipython3",
   "version": "3.7.12"
  }
 },
 "nbformat": 4,
 "nbformat_minor": 5
}
